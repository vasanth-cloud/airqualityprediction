{
 "cells": [
  {
   "cell_type": "code",
   "execution_count": 1,
   "id": "cdecd506",
   "metadata": {
    "execution": {
     "iopub.execute_input": "2022-07-20T08:33:14.245615Z",
     "iopub.status.busy": "2022-07-20T08:33:14.244570Z",
     "iopub.status.idle": "2022-07-20T08:33:15.805929Z",
     "shell.execute_reply": "2022-07-20T08:33:15.804417Z"
    },
    "papermill": {
     "duration": 1.577364,
     "end_time": "2022-07-20T08:33:15.808890",
     "exception": false,
     "start_time": "2022-07-20T08:33:14.231526",
     "status": "completed"
    },
    "tags": []
   },
   "outputs": [],
   "source": [
    "import pandas as pd\n",
    "import numpy as np\n",
    "import matplotlib.pyplot as plt\n",
    "import seaborn as sns\n",
    "from sklearn import linear_model"
   ]
  },
  {
   "cell_type": "code",
   "execution_count": 2,
   "id": "652da38c",
   "metadata": {
    "execution": {
     "iopub.execute_input": "2022-07-20T08:33:15.830268Z",
     "iopub.status.busy": "2022-07-20T08:33:15.829124Z",
     "iopub.status.idle": "2022-07-20T08:33:15.980526Z",
     "shell.execute_reply": "2022-07-20T08:33:15.979250Z"
    },
    "papermill": {
     "duration": 0.165214,
     "end_time": "2022-07-20T08:33:15.983754",
     "exception": false,
     "start_time": "2022-07-20T08:33:15.818540",
     "status": "completed"
    },
    "tags": []
   },
   "outputs": [
    {
     "data": {
      "text/html": [
       "<div>\n",
       "<style scoped>\n",
       "    .dataframe tbody tr th:only-of-type {\n",
       "        vertical-align: middle;\n",
       "    }\n",
       "\n",
       "    .dataframe tbody tr th {\n",
       "        vertical-align: top;\n",
       "    }\n",
       "\n",
       "    .dataframe thead th {\n",
       "        text-align: right;\n",
       "    }\n",
       "</style>\n",
       "<table border=\"1\" class=\"dataframe\">\n",
       "  <thead>\n",
       "    <tr style=\"text-align: right;\">\n",
       "      <th></th>\n",
       "      <th>City</th>\n",
       "      <th>Date</th>\n",
       "      <th>PM2.5</th>\n",
       "      <th>PM10</th>\n",
       "      <th>NO</th>\n",
       "      <th>NO2</th>\n",
       "      <th>NOx</th>\n",
       "      <th>NH3</th>\n",
       "      <th>CO</th>\n",
       "      <th>SO2</th>\n",
       "      <th>O3</th>\n",
       "      <th>Benzene</th>\n",
       "      <th>Toluene</th>\n",
       "      <th>Xylene</th>\n",
       "      <th>AQI</th>\n",
       "      <th>AQI_Bucket</th>\n",
       "    </tr>\n",
       "  </thead>\n",
       "  <tbody>\n",
       "    <tr>\n",
       "      <th>0</th>\n",
       "      <td>Ahmedabad</td>\n",
       "      <td>2015-01-01</td>\n",
       "      <td>NaN</td>\n",
       "      <td>NaN</td>\n",
       "      <td>0.92</td>\n",
       "      <td>18.22</td>\n",
       "      <td>17.15</td>\n",
       "      <td>NaN</td>\n",
       "      <td>0.92</td>\n",
       "      <td>27.64</td>\n",
       "      <td>133.36</td>\n",
       "      <td>0.00</td>\n",
       "      <td>0.02</td>\n",
       "      <td>0.00</td>\n",
       "      <td>NaN</td>\n",
       "      <td>NaN</td>\n",
       "    </tr>\n",
       "    <tr>\n",
       "      <th>1</th>\n",
       "      <td>Ahmedabad</td>\n",
       "      <td>2015-01-02</td>\n",
       "      <td>NaN</td>\n",
       "      <td>NaN</td>\n",
       "      <td>0.97</td>\n",
       "      <td>15.69</td>\n",
       "      <td>16.46</td>\n",
       "      <td>NaN</td>\n",
       "      <td>0.97</td>\n",
       "      <td>24.55</td>\n",
       "      <td>34.06</td>\n",
       "      <td>3.68</td>\n",
       "      <td>5.50</td>\n",
       "      <td>3.77</td>\n",
       "      <td>NaN</td>\n",
       "      <td>NaN</td>\n",
       "    </tr>\n",
       "    <tr>\n",
       "      <th>2</th>\n",
       "      <td>Ahmedabad</td>\n",
       "      <td>2015-01-03</td>\n",
       "      <td>NaN</td>\n",
       "      <td>NaN</td>\n",
       "      <td>17.40</td>\n",
       "      <td>19.30</td>\n",
       "      <td>29.70</td>\n",
       "      <td>NaN</td>\n",
       "      <td>17.40</td>\n",
       "      <td>29.07</td>\n",
       "      <td>30.70</td>\n",
       "      <td>6.80</td>\n",
       "      <td>16.40</td>\n",
       "      <td>2.25</td>\n",
       "      <td>NaN</td>\n",
       "      <td>NaN</td>\n",
       "    </tr>\n",
       "    <tr>\n",
       "      <th>3</th>\n",
       "      <td>Ahmedabad</td>\n",
       "      <td>2015-01-04</td>\n",
       "      <td>NaN</td>\n",
       "      <td>NaN</td>\n",
       "      <td>1.70</td>\n",
       "      <td>18.48</td>\n",
       "      <td>17.97</td>\n",
       "      <td>NaN</td>\n",
       "      <td>1.70</td>\n",
       "      <td>18.59</td>\n",
       "      <td>36.08</td>\n",
       "      <td>4.43</td>\n",
       "      <td>10.14</td>\n",
       "      <td>1.00</td>\n",
       "      <td>NaN</td>\n",
       "      <td>NaN</td>\n",
       "    </tr>\n",
       "    <tr>\n",
       "      <th>4</th>\n",
       "      <td>Ahmedabad</td>\n",
       "      <td>2015-01-05</td>\n",
       "      <td>NaN</td>\n",
       "      <td>NaN</td>\n",
       "      <td>22.10</td>\n",
       "      <td>21.42</td>\n",
       "      <td>37.76</td>\n",
       "      <td>NaN</td>\n",
       "      <td>22.10</td>\n",
       "      <td>39.33</td>\n",
       "      <td>39.31</td>\n",
       "      <td>7.01</td>\n",
       "      <td>18.89</td>\n",
       "      <td>2.78</td>\n",
       "      <td>NaN</td>\n",
       "      <td>NaN</td>\n",
       "    </tr>\n",
       "    <tr>\n",
       "      <th>...</th>\n",
       "      <td>...</td>\n",
       "      <td>...</td>\n",
       "      <td>...</td>\n",
       "      <td>...</td>\n",
       "      <td>...</td>\n",
       "      <td>...</td>\n",
       "      <td>...</td>\n",
       "      <td>...</td>\n",
       "      <td>...</td>\n",
       "      <td>...</td>\n",
       "      <td>...</td>\n",
       "      <td>...</td>\n",
       "      <td>...</td>\n",
       "      <td>...</td>\n",
       "      <td>...</td>\n",
       "      <td>...</td>\n",
       "    </tr>\n",
       "    <tr>\n",
       "      <th>29526</th>\n",
       "      <td>Visakhapatnam</td>\n",
       "      <td>2020-06-27</td>\n",
       "      <td>15.02</td>\n",
       "      <td>50.94</td>\n",
       "      <td>7.68</td>\n",
       "      <td>25.06</td>\n",
       "      <td>19.54</td>\n",
       "      <td>12.47</td>\n",
       "      <td>0.47</td>\n",
       "      <td>8.55</td>\n",
       "      <td>23.30</td>\n",
       "      <td>2.24</td>\n",
       "      <td>12.07</td>\n",
       "      <td>0.73</td>\n",
       "      <td>41.0</td>\n",
       "      <td>Good</td>\n",
       "    </tr>\n",
       "    <tr>\n",
       "      <th>29527</th>\n",
       "      <td>Visakhapatnam</td>\n",
       "      <td>2020-06-28</td>\n",
       "      <td>24.38</td>\n",
       "      <td>74.09</td>\n",
       "      <td>3.42</td>\n",
       "      <td>26.06</td>\n",
       "      <td>16.53</td>\n",
       "      <td>11.99</td>\n",
       "      <td>0.52</td>\n",
       "      <td>12.72</td>\n",
       "      <td>30.14</td>\n",
       "      <td>0.74</td>\n",
       "      <td>2.21</td>\n",
       "      <td>0.38</td>\n",
       "      <td>70.0</td>\n",
       "      <td>Satisfactory</td>\n",
       "    </tr>\n",
       "    <tr>\n",
       "      <th>29528</th>\n",
       "      <td>Visakhapatnam</td>\n",
       "      <td>2020-06-29</td>\n",
       "      <td>22.91</td>\n",
       "      <td>65.73</td>\n",
       "      <td>3.45</td>\n",
       "      <td>29.53</td>\n",
       "      <td>18.33</td>\n",
       "      <td>10.71</td>\n",
       "      <td>0.48</td>\n",
       "      <td>8.42</td>\n",
       "      <td>30.96</td>\n",
       "      <td>0.01</td>\n",
       "      <td>0.01</td>\n",
       "      <td>0.00</td>\n",
       "      <td>68.0</td>\n",
       "      <td>Satisfactory</td>\n",
       "    </tr>\n",
       "    <tr>\n",
       "      <th>29529</th>\n",
       "      <td>Visakhapatnam</td>\n",
       "      <td>2020-06-30</td>\n",
       "      <td>16.64</td>\n",
       "      <td>49.97</td>\n",
       "      <td>4.05</td>\n",
       "      <td>29.26</td>\n",
       "      <td>18.80</td>\n",
       "      <td>10.03</td>\n",
       "      <td>0.52</td>\n",
       "      <td>9.84</td>\n",
       "      <td>28.30</td>\n",
       "      <td>0.00</td>\n",
       "      <td>0.00</td>\n",
       "      <td>0.00</td>\n",
       "      <td>54.0</td>\n",
       "      <td>Satisfactory</td>\n",
       "    </tr>\n",
       "    <tr>\n",
       "      <th>29530</th>\n",
       "      <td>Visakhapatnam</td>\n",
       "      <td>2020-07-01</td>\n",
       "      <td>15.00</td>\n",
       "      <td>66.00</td>\n",
       "      <td>0.40</td>\n",
       "      <td>26.85</td>\n",
       "      <td>14.05</td>\n",
       "      <td>5.20</td>\n",
       "      <td>0.59</td>\n",
       "      <td>2.10</td>\n",
       "      <td>17.05</td>\n",
       "      <td>NaN</td>\n",
       "      <td>NaN</td>\n",
       "      <td>NaN</td>\n",
       "      <td>50.0</td>\n",
       "      <td>Good</td>\n",
       "    </tr>\n",
       "  </tbody>\n",
       "</table>\n",
       "<p>29531 rows × 16 columns</p>\n",
       "</div>"
      ],
      "text/plain": [
       "                City        Date  PM2.5   PM10     NO    NO2    NOx    NH3  \\\n",
       "0          Ahmedabad  2015-01-01    NaN    NaN   0.92  18.22  17.15    NaN   \n",
       "1          Ahmedabad  2015-01-02    NaN    NaN   0.97  15.69  16.46    NaN   \n",
       "2          Ahmedabad  2015-01-03    NaN    NaN  17.40  19.30  29.70    NaN   \n",
       "3          Ahmedabad  2015-01-04    NaN    NaN   1.70  18.48  17.97    NaN   \n",
       "4          Ahmedabad  2015-01-05    NaN    NaN  22.10  21.42  37.76    NaN   \n",
       "...              ...         ...    ...    ...    ...    ...    ...    ...   \n",
       "29526  Visakhapatnam  2020-06-27  15.02  50.94   7.68  25.06  19.54  12.47   \n",
       "29527  Visakhapatnam  2020-06-28  24.38  74.09   3.42  26.06  16.53  11.99   \n",
       "29528  Visakhapatnam  2020-06-29  22.91  65.73   3.45  29.53  18.33  10.71   \n",
       "29529  Visakhapatnam  2020-06-30  16.64  49.97   4.05  29.26  18.80  10.03   \n",
       "29530  Visakhapatnam  2020-07-01  15.00  66.00   0.40  26.85  14.05   5.20   \n",
       "\n",
       "          CO    SO2      O3  Benzene  Toluene  Xylene   AQI    AQI_Bucket  \n",
       "0       0.92  27.64  133.36     0.00     0.02    0.00   NaN           NaN  \n",
       "1       0.97  24.55   34.06     3.68     5.50    3.77   NaN           NaN  \n",
       "2      17.40  29.07   30.70     6.80    16.40    2.25   NaN           NaN  \n",
       "3       1.70  18.59   36.08     4.43    10.14    1.00   NaN           NaN  \n",
       "4      22.10  39.33   39.31     7.01    18.89    2.78   NaN           NaN  \n",
       "...      ...    ...     ...      ...      ...     ...   ...           ...  \n",
       "29526   0.47   8.55   23.30     2.24    12.07    0.73  41.0          Good  \n",
       "29527   0.52  12.72   30.14     0.74     2.21    0.38  70.0  Satisfactory  \n",
       "29528   0.48   8.42   30.96     0.01     0.01    0.00  68.0  Satisfactory  \n",
       "29529   0.52   9.84   28.30     0.00     0.00    0.00  54.0  Satisfactory  \n",
       "29530   0.59   2.10   17.05      NaN      NaN     NaN  50.0          Good  \n",
       "\n",
       "[29531 rows x 16 columns]"
      ]
     },
     "execution_count": 2,
     "metadata": {},
     "output_type": "execute_result"
    }
   ],
   "source": [
    "d = pd.read_csv('../input/air-quality-prediction/city_day.csv/city_day.csv')\n",
    "d"
   ]
  },
  {
   "cell_type": "code",
   "execution_count": 3,
   "id": "f537f965",
   "metadata": {
    "execution": {
     "iopub.execute_input": "2022-07-20T08:33:16.005747Z",
     "iopub.status.busy": "2022-07-20T08:33:16.005328Z",
     "iopub.status.idle": "2022-07-20T08:33:16.030119Z",
     "shell.execute_reply": "2022-07-20T08:33:16.028969Z"
    },
    "papermill": {
     "duration": 0.038598,
     "end_time": "2022-07-20T08:33:16.032663",
     "exception": false,
     "start_time": "2022-07-20T08:33:15.994065",
     "status": "completed"
    },
    "tags": []
   },
   "outputs": [
    {
     "data": {
      "text/html": [
       "<div>\n",
       "<style scoped>\n",
       "    .dataframe tbody tr th:only-of-type {\n",
       "        vertical-align: middle;\n",
       "    }\n",
       "\n",
       "    .dataframe tbody tr th {\n",
       "        vertical-align: top;\n",
       "    }\n",
       "\n",
       "    .dataframe thead th {\n",
       "        text-align: right;\n",
       "    }\n",
       "</style>\n",
       "<table border=\"1\" class=\"dataframe\">\n",
       "  <thead>\n",
       "    <tr style=\"text-align: right;\">\n",
       "      <th></th>\n",
       "      <th>City</th>\n",
       "      <th>Date</th>\n",
       "      <th>PM2.5</th>\n",
       "      <th>PM10</th>\n",
       "      <th>NO</th>\n",
       "      <th>NO2</th>\n",
       "      <th>NOx</th>\n",
       "      <th>NH3</th>\n",
       "      <th>CO</th>\n",
       "      <th>SO2</th>\n",
       "      <th>O3</th>\n",
       "      <th>Benzene</th>\n",
       "      <th>Toluene</th>\n",
       "      <th>Xylene</th>\n",
       "      <th>AQI</th>\n",
       "      <th>AQI_Bucket</th>\n",
       "    </tr>\n",
       "  </thead>\n",
       "  <tbody>\n",
       "    <tr>\n",
       "      <th>0</th>\n",
       "      <td>Ahmedabad</td>\n",
       "      <td>2015-01-01</td>\n",
       "      <td>NaN</td>\n",
       "      <td>NaN</td>\n",
       "      <td>0.92</td>\n",
       "      <td>18.22</td>\n",
       "      <td>17.15</td>\n",
       "      <td>NaN</td>\n",
       "      <td>0.92</td>\n",
       "      <td>27.64</td>\n",
       "      <td>133.36</td>\n",
       "      <td>0.00</td>\n",
       "      <td>0.02</td>\n",
       "      <td>0.00</td>\n",
       "      <td>NaN</td>\n",
       "      <td>NaN</td>\n",
       "    </tr>\n",
       "    <tr>\n",
       "      <th>1</th>\n",
       "      <td>Ahmedabad</td>\n",
       "      <td>2015-01-02</td>\n",
       "      <td>NaN</td>\n",
       "      <td>NaN</td>\n",
       "      <td>0.97</td>\n",
       "      <td>15.69</td>\n",
       "      <td>16.46</td>\n",
       "      <td>NaN</td>\n",
       "      <td>0.97</td>\n",
       "      <td>24.55</td>\n",
       "      <td>34.06</td>\n",
       "      <td>3.68</td>\n",
       "      <td>5.50</td>\n",
       "      <td>3.77</td>\n",
       "      <td>NaN</td>\n",
       "      <td>NaN</td>\n",
       "    </tr>\n",
       "    <tr>\n",
       "      <th>2</th>\n",
       "      <td>Ahmedabad</td>\n",
       "      <td>2015-01-03</td>\n",
       "      <td>NaN</td>\n",
       "      <td>NaN</td>\n",
       "      <td>17.40</td>\n",
       "      <td>19.30</td>\n",
       "      <td>29.70</td>\n",
       "      <td>NaN</td>\n",
       "      <td>17.40</td>\n",
       "      <td>29.07</td>\n",
       "      <td>30.70</td>\n",
       "      <td>6.80</td>\n",
       "      <td>16.40</td>\n",
       "      <td>2.25</td>\n",
       "      <td>NaN</td>\n",
       "      <td>NaN</td>\n",
       "    </tr>\n",
       "    <tr>\n",
       "      <th>3</th>\n",
       "      <td>Ahmedabad</td>\n",
       "      <td>2015-01-04</td>\n",
       "      <td>NaN</td>\n",
       "      <td>NaN</td>\n",
       "      <td>1.70</td>\n",
       "      <td>18.48</td>\n",
       "      <td>17.97</td>\n",
       "      <td>NaN</td>\n",
       "      <td>1.70</td>\n",
       "      <td>18.59</td>\n",
       "      <td>36.08</td>\n",
       "      <td>4.43</td>\n",
       "      <td>10.14</td>\n",
       "      <td>1.00</td>\n",
       "      <td>NaN</td>\n",
       "      <td>NaN</td>\n",
       "    </tr>\n",
       "    <tr>\n",
       "      <th>4</th>\n",
       "      <td>Ahmedabad</td>\n",
       "      <td>2015-01-05</td>\n",
       "      <td>NaN</td>\n",
       "      <td>NaN</td>\n",
       "      <td>22.10</td>\n",
       "      <td>21.42</td>\n",
       "      <td>37.76</td>\n",
       "      <td>NaN</td>\n",
       "      <td>22.10</td>\n",
       "      <td>39.33</td>\n",
       "      <td>39.31</td>\n",
       "      <td>7.01</td>\n",
       "      <td>18.89</td>\n",
       "      <td>2.78</td>\n",
       "      <td>NaN</td>\n",
       "      <td>NaN</td>\n",
       "    </tr>\n",
       "  </tbody>\n",
       "</table>\n",
       "</div>"
      ],
      "text/plain": [
       "        City        Date  PM2.5  PM10     NO    NO2    NOx  NH3     CO    SO2  \\\n",
       "0  Ahmedabad  2015-01-01    NaN   NaN   0.92  18.22  17.15  NaN   0.92  27.64   \n",
       "1  Ahmedabad  2015-01-02    NaN   NaN   0.97  15.69  16.46  NaN   0.97  24.55   \n",
       "2  Ahmedabad  2015-01-03    NaN   NaN  17.40  19.30  29.70  NaN  17.40  29.07   \n",
       "3  Ahmedabad  2015-01-04    NaN   NaN   1.70  18.48  17.97  NaN   1.70  18.59   \n",
       "4  Ahmedabad  2015-01-05    NaN   NaN  22.10  21.42  37.76  NaN  22.10  39.33   \n",
       "\n",
       "       O3  Benzene  Toluene  Xylene  AQI AQI_Bucket  \n",
       "0  133.36     0.00     0.02    0.00  NaN        NaN  \n",
       "1   34.06     3.68     5.50    3.77  NaN        NaN  \n",
       "2   30.70     6.80    16.40    2.25  NaN        NaN  \n",
       "3   36.08     4.43    10.14    1.00  NaN        NaN  \n",
       "4   39.31     7.01    18.89    2.78  NaN        NaN  "
      ]
     },
     "execution_count": 3,
     "metadata": {},
     "output_type": "execute_result"
    }
   ],
   "source": [
    "d.head()"
   ]
  },
  {
   "cell_type": "code",
   "execution_count": 4,
   "id": "cb7e7e0e",
   "metadata": {
    "execution": {
     "iopub.execute_input": "2022-07-20T08:33:16.055678Z",
     "iopub.status.busy": "2022-07-20T08:33:16.055266Z",
     "iopub.status.idle": "2022-07-20T08:33:16.080664Z",
     "shell.execute_reply": "2022-07-20T08:33:16.079487Z"
    },
    "papermill": {
     "duration": 0.039366,
     "end_time": "2022-07-20T08:33:16.082973",
     "exception": false,
     "start_time": "2022-07-20T08:33:16.043607",
     "status": "completed"
    },
    "tags": []
   },
   "outputs": [
    {
     "data": {
      "text/html": [
       "<div>\n",
       "<style scoped>\n",
       "    .dataframe tbody tr th:only-of-type {\n",
       "        vertical-align: middle;\n",
       "    }\n",
       "\n",
       "    .dataframe tbody tr th {\n",
       "        vertical-align: top;\n",
       "    }\n",
       "\n",
       "    .dataframe thead th {\n",
       "        text-align: right;\n",
       "    }\n",
       "</style>\n",
       "<table border=\"1\" class=\"dataframe\">\n",
       "  <thead>\n",
       "    <tr style=\"text-align: right;\">\n",
       "      <th></th>\n",
       "      <th>City</th>\n",
       "      <th>Date</th>\n",
       "      <th>PM2.5</th>\n",
       "      <th>PM10</th>\n",
       "      <th>NO</th>\n",
       "      <th>NO2</th>\n",
       "      <th>NOx</th>\n",
       "      <th>NH3</th>\n",
       "      <th>CO</th>\n",
       "      <th>SO2</th>\n",
       "      <th>O3</th>\n",
       "      <th>Benzene</th>\n",
       "      <th>Toluene</th>\n",
       "      <th>Xylene</th>\n",
       "      <th>AQI</th>\n",
       "      <th>AQI_Bucket</th>\n",
       "    </tr>\n",
       "  </thead>\n",
       "  <tbody>\n",
       "    <tr>\n",
       "      <th>29526</th>\n",
       "      <td>Visakhapatnam</td>\n",
       "      <td>2020-06-27</td>\n",
       "      <td>15.02</td>\n",
       "      <td>50.94</td>\n",
       "      <td>7.68</td>\n",
       "      <td>25.06</td>\n",
       "      <td>19.54</td>\n",
       "      <td>12.47</td>\n",
       "      <td>0.47</td>\n",
       "      <td>8.55</td>\n",
       "      <td>23.30</td>\n",
       "      <td>2.24</td>\n",
       "      <td>12.07</td>\n",
       "      <td>0.73</td>\n",
       "      <td>41.0</td>\n",
       "      <td>Good</td>\n",
       "    </tr>\n",
       "    <tr>\n",
       "      <th>29527</th>\n",
       "      <td>Visakhapatnam</td>\n",
       "      <td>2020-06-28</td>\n",
       "      <td>24.38</td>\n",
       "      <td>74.09</td>\n",
       "      <td>3.42</td>\n",
       "      <td>26.06</td>\n",
       "      <td>16.53</td>\n",
       "      <td>11.99</td>\n",
       "      <td>0.52</td>\n",
       "      <td>12.72</td>\n",
       "      <td>30.14</td>\n",
       "      <td>0.74</td>\n",
       "      <td>2.21</td>\n",
       "      <td>0.38</td>\n",
       "      <td>70.0</td>\n",
       "      <td>Satisfactory</td>\n",
       "    </tr>\n",
       "    <tr>\n",
       "      <th>29528</th>\n",
       "      <td>Visakhapatnam</td>\n",
       "      <td>2020-06-29</td>\n",
       "      <td>22.91</td>\n",
       "      <td>65.73</td>\n",
       "      <td>3.45</td>\n",
       "      <td>29.53</td>\n",
       "      <td>18.33</td>\n",
       "      <td>10.71</td>\n",
       "      <td>0.48</td>\n",
       "      <td>8.42</td>\n",
       "      <td>30.96</td>\n",
       "      <td>0.01</td>\n",
       "      <td>0.01</td>\n",
       "      <td>0.00</td>\n",
       "      <td>68.0</td>\n",
       "      <td>Satisfactory</td>\n",
       "    </tr>\n",
       "    <tr>\n",
       "      <th>29529</th>\n",
       "      <td>Visakhapatnam</td>\n",
       "      <td>2020-06-30</td>\n",
       "      <td>16.64</td>\n",
       "      <td>49.97</td>\n",
       "      <td>4.05</td>\n",
       "      <td>29.26</td>\n",
       "      <td>18.80</td>\n",
       "      <td>10.03</td>\n",
       "      <td>0.52</td>\n",
       "      <td>9.84</td>\n",
       "      <td>28.30</td>\n",
       "      <td>0.00</td>\n",
       "      <td>0.00</td>\n",
       "      <td>0.00</td>\n",
       "      <td>54.0</td>\n",
       "      <td>Satisfactory</td>\n",
       "    </tr>\n",
       "    <tr>\n",
       "      <th>29530</th>\n",
       "      <td>Visakhapatnam</td>\n",
       "      <td>2020-07-01</td>\n",
       "      <td>15.00</td>\n",
       "      <td>66.00</td>\n",
       "      <td>0.40</td>\n",
       "      <td>26.85</td>\n",
       "      <td>14.05</td>\n",
       "      <td>5.20</td>\n",
       "      <td>0.59</td>\n",
       "      <td>2.10</td>\n",
       "      <td>17.05</td>\n",
       "      <td>NaN</td>\n",
       "      <td>NaN</td>\n",
       "      <td>NaN</td>\n",
       "      <td>50.0</td>\n",
       "      <td>Good</td>\n",
       "    </tr>\n",
       "  </tbody>\n",
       "</table>\n",
       "</div>"
      ],
      "text/plain": [
       "                City        Date  PM2.5   PM10    NO    NO2    NOx    NH3  \\\n",
       "29526  Visakhapatnam  2020-06-27  15.02  50.94  7.68  25.06  19.54  12.47   \n",
       "29527  Visakhapatnam  2020-06-28  24.38  74.09  3.42  26.06  16.53  11.99   \n",
       "29528  Visakhapatnam  2020-06-29  22.91  65.73  3.45  29.53  18.33  10.71   \n",
       "29529  Visakhapatnam  2020-06-30  16.64  49.97  4.05  29.26  18.80  10.03   \n",
       "29530  Visakhapatnam  2020-07-01  15.00  66.00  0.40  26.85  14.05   5.20   \n",
       "\n",
       "         CO    SO2     O3  Benzene  Toluene  Xylene   AQI    AQI_Bucket  \n",
       "29526  0.47   8.55  23.30     2.24    12.07    0.73  41.0          Good  \n",
       "29527  0.52  12.72  30.14     0.74     2.21    0.38  70.0  Satisfactory  \n",
       "29528  0.48   8.42  30.96     0.01     0.01    0.00  68.0  Satisfactory  \n",
       "29529  0.52   9.84  28.30     0.00     0.00    0.00  54.0  Satisfactory  \n",
       "29530  0.59   2.10  17.05      NaN      NaN     NaN  50.0          Good  "
      ]
     },
     "execution_count": 4,
     "metadata": {},
     "output_type": "execute_result"
    }
   ],
   "source": [
    "d.tail()"
   ]
  },
  {
   "cell_type": "code",
   "execution_count": 5,
   "id": "c1131c23",
   "metadata": {
    "execution": {
     "iopub.execute_input": "2022-07-20T08:33:16.106778Z",
     "iopub.status.busy": "2022-07-20T08:33:16.106346Z",
     "iopub.status.idle": "2022-07-20T08:33:16.112903Z",
     "shell.execute_reply": "2022-07-20T08:33:16.111747Z"
    },
    "papermill": {
     "duration": 0.021156,
     "end_time": "2022-07-20T08:33:16.115088",
     "exception": false,
     "start_time": "2022-07-20T08:33:16.093932",
     "status": "completed"
    },
    "tags": []
   },
   "outputs": [
    {
     "data": {
      "text/plain": [
       "(29531, 16)"
      ]
     },
     "execution_count": 5,
     "metadata": {},
     "output_type": "execute_result"
    }
   ],
   "source": [
    "d.shape\n"
   ]
  },
  {
   "cell_type": "code",
   "execution_count": 6,
   "id": "24f44aed",
   "metadata": {
    "execution": {
     "iopub.execute_input": "2022-07-20T08:33:16.139206Z",
     "iopub.status.busy": "2022-07-20T08:33:16.138792Z",
     "iopub.status.idle": "2022-07-20T08:33:16.145863Z",
     "shell.execute_reply": "2022-07-20T08:33:16.144700Z"
    },
    "papermill": {
     "duration": 0.021838,
     "end_time": "2022-07-20T08:33:16.148143",
     "exception": false,
     "start_time": "2022-07-20T08:33:16.126305",
     "status": "completed"
    },
    "tags": []
   },
   "outputs": [
    {
     "data": {
      "text/plain": [
       "Index(['City', 'Date', 'PM2.5', 'PM10', 'NO', 'NO2', 'NOx', 'NH3', 'CO', 'SO2',\n",
       "       'O3', 'Benzene', 'Toluene', 'Xylene', 'AQI', 'AQI_Bucket'],\n",
       "      dtype='object')"
      ]
     },
     "execution_count": 6,
     "metadata": {},
     "output_type": "execute_result"
    }
   ],
   "source": [
    "d.columns"
   ]
  },
  {
   "cell_type": "code",
   "execution_count": 7,
   "id": "794d0fca",
   "metadata": {
    "execution": {
     "iopub.execute_input": "2022-07-20T08:33:16.171988Z",
     "iopub.status.busy": "2022-07-20T08:33:16.171605Z",
     "iopub.status.idle": "2022-07-20T08:33:16.248916Z",
     "shell.execute_reply": "2022-07-20T08:33:16.247821Z"
    },
    "papermill": {
     "duration": 0.092257,
     "end_time": "2022-07-20T08:33:16.251439",
     "exception": false,
     "start_time": "2022-07-20T08:33:16.159182",
     "status": "completed"
    },
    "tags": []
   },
   "outputs": [
    {
     "data": {
      "text/html": [
       "<div>\n",
       "<style scoped>\n",
       "    .dataframe tbody tr th:only-of-type {\n",
       "        vertical-align: middle;\n",
       "    }\n",
       "\n",
       "    .dataframe tbody tr th {\n",
       "        vertical-align: top;\n",
       "    }\n",
       "\n",
       "    .dataframe thead th {\n",
       "        text-align: right;\n",
       "    }\n",
       "</style>\n",
       "<table border=\"1\" class=\"dataframe\">\n",
       "  <thead>\n",
       "    <tr style=\"text-align: right;\">\n",
       "      <th></th>\n",
       "      <th>PM2.5</th>\n",
       "      <th>PM10</th>\n",
       "      <th>NO</th>\n",
       "      <th>NO2</th>\n",
       "      <th>NOx</th>\n",
       "      <th>NH3</th>\n",
       "      <th>CO</th>\n",
       "      <th>SO2</th>\n",
       "      <th>O3</th>\n",
       "      <th>Benzene</th>\n",
       "      <th>Toluene</th>\n",
       "      <th>Xylene</th>\n",
       "      <th>AQI</th>\n",
       "    </tr>\n",
       "  </thead>\n",
       "  <tbody>\n",
       "    <tr>\n",
       "      <th>count</th>\n",
       "      <td>24933.000000</td>\n",
       "      <td>18391.000000</td>\n",
       "      <td>25949.000000</td>\n",
       "      <td>25946.000000</td>\n",
       "      <td>25346.000000</td>\n",
       "      <td>19203.000000</td>\n",
       "      <td>27472.000000</td>\n",
       "      <td>25677.000000</td>\n",
       "      <td>25509.000000</td>\n",
       "      <td>23908.000000</td>\n",
       "      <td>21490.000000</td>\n",
       "      <td>11422.000000</td>\n",
       "      <td>24850.000000</td>\n",
       "    </tr>\n",
       "    <tr>\n",
       "      <th>mean</th>\n",
       "      <td>67.450578</td>\n",
       "      <td>118.127103</td>\n",
       "      <td>17.574730</td>\n",
       "      <td>28.560659</td>\n",
       "      <td>32.309123</td>\n",
       "      <td>23.483476</td>\n",
       "      <td>2.248598</td>\n",
       "      <td>14.531977</td>\n",
       "      <td>34.491430</td>\n",
       "      <td>3.280840</td>\n",
       "      <td>8.700972</td>\n",
       "      <td>3.070128</td>\n",
       "      <td>166.463581</td>\n",
       "    </tr>\n",
       "    <tr>\n",
       "      <th>std</th>\n",
       "      <td>64.661449</td>\n",
       "      <td>90.605110</td>\n",
       "      <td>22.785846</td>\n",
       "      <td>24.474746</td>\n",
       "      <td>31.646011</td>\n",
       "      <td>25.684275</td>\n",
       "      <td>6.962884</td>\n",
       "      <td>18.133775</td>\n",
       "      <td>21.694928</td>\n",
       "      <td>15.811136</td>\n",
       "      <td>19.969164</td>\n",
       "      <td>6.323247</td>\n",
       "      <td>140.696585</td>\n",
       "    </tr>\n",
       "    <tr>\n",
       "      <th>min</th>\n",
       "      <td>0.040000</td>\n",
       "      <td>0.010000</td>\n",
       "      <td>0.020000</td>\n",
       "      <td>0.010000</td>\n",
       "      <td>0.000000</td>\n",
       "      <td>0.010000</td>\n",
       "      <td>0.000000</td>\n",
       "      <td>0.010000</td>\n",
       "      <td>0.010000</td>\n",
       "      <td>0.000000</td>\n",
       "      <td>0.000000</td>\n",
       "      <td>0.000000</td>\n",
       "      <td>13.000000</td>\n",
       "    </tr>\n",
       "    <tr>\n",
       "      <th>25%</th>\n",
       "      <td>28.820000</td>\n",
       "      <td>56.255000</td>\n",
       "      <td>5.630000</td>\n",
       "      <td>11.750000</td>\n",
       "      <td>12.820000</td>\n",
       "      <td>8.580000</td>\n",
       "      <td>0.510000</td>\n",
       "      <td>5.670000</td>\n",
       "      <td>18.860000</td>\n",
       "      <td>0.120000</td>\n",
       "      <td>0.600000</td>\n",
       "      <td>0.140000</td>\n",
       "      <td>81.000000</td>\n",
       "    </tr>\n",
       "    <tr>\n",
       "      <th>50%</th>\n",
       "      <td>48.570000</td>\n",
       "      <td>95.680000</td>\n",
       "      <td>9.890000</td>\n",
       "      <td>21.690000</td>\n",
       "      <td>23.520000</td>\n",
       "      <td>15.850000</td>\n",
       "      <td>0.890000</td>\n",
       "      <td>9.160000</td>\n",
       "      <td>30.840000</td>\n",
       "      <td>1.070000</td>\n",
       "      <td>2.970000</td>\n",
       "      <td>0.980000</td>\n",
       "      <td>118.000000</td>\n",
       "    </tr>\n",
       "    <tr>\n",
       "      <th>75%</th>\n",
       "      <td>80.590000</td>\n",
       "      <td>149.745000</td>\n",
       "      <td>19.950000</td>\n",
       "      <td>37.620000</td>\n",
       "      <td>40.127500</td>\n",
       "      <td>30.020000</td>\n",
       "      <td>1.450000</td>\n",
       "      <td>15.220000</td>\n",
       "      <td>45.570000</td>\n",
       "      <td>3.080000</td>\n",
       "      <td>9.150000</td>\n",
       "      <td>3.350000</td>\n",
       "      <td>208.000000</td>\n",
       "    </tr>\n",
       "    <tr>\n",
       "      <th>max</th>\n",
       "      <td>949.990000</td>\n",
       "      <td>1000.000000</td>\n",
       "      <td>390.680000</td>\n",
       "      <td>362.210000</td>\n",
       "      <td>467.630000</td>\n",
       "      <td>352.890000</td>\n",
       "      <td>175.810000</td>\n",
       "      <td>193.860000</td>\n",
       "      <td>257.730000</td>\n",
       "      <td>455.030000</td>\n",
       "      <td>454.850000</td>\n",
       "      <td>170.370000</td>\n",
       "      <td>2049.000000</td>\n",
       "    </tr>\n",
       "  </tbody>\n",
       "</table>\n",
       "</div>"
      ],
      "text/plain": [
       "              PM2.5          PM10            NO           NO2           NOx  \\\n",
       "count  24933.000000  18391.000000  25949.000000  25946.000000  25346.000000   \n",
       "mean      67.450578    118.127103     17.574730     28.560659     32.309123   \n",
       "std       64.661449     90.605110     22.785846     24.474746     31.646011   \n",
       "min        0.040000      0.010000      0.020000      0.010000      0.000000   \n",
       "25%       28.820000     56.255000      5.630000     11.750000     12.820000   \n",
       "50%       48.570000     95.680000      9.890000     21.690000     23.520000   \n",
       "75%       80.590000    149.745000     19.950000     37.620000     40.127500   \n",
       "max      949.990000   1000.000000    390.680000    362.210000    467.630000   \n",
       "\n",
       "                NH3            CO           SO2            O3       Benzene  \\\n",
       "count  19203.000000  27472.000000  25677.000000  25509.000000  23908.000000   \n",
       "mean      23.483476      2.248598     14.531977     34.491430      3.280840   \n",
       "std       25.684275      6.962884     18.133775     21.694928     15.811136   \n",
       "min        0.010000      0.000000      0.010000      0.010000      0.000000   \n",
       "25%        8.580000      0.510000      5.670000     18.860000      0.120000   \n",
       "50%       15.850000      0.890000      9.160000     30.840000      1.070000   \n",
       "75%       30.020000      1.450000     15.220000     45.570000      3.080000   \n",
       "max      352.890000    175.810000    193.860000    257.730000    455.030000   \n",
       "\n",
       "            Toluene        Xylene           AQI  \n",
       "count  21490.000000  11422.000000  24850.000000  \n",
       "mean       8.700972      3.070128    166.463581  \n",
       "std       19.969164      6.323247    140.696585  \n",
       "min        0.000000      0.000000     13.000000  \n",
       "25%        0.600000      0.140000     81.000000  \n",
       "50%        2.970000      0.980000    118.000000  \n",
       "75%        9.150000      3.350000    208.000000  \n",
       "max      454.850000    170.370000   2049.000000  "
      ]
     },
     "execution_count": 7,
     "metadata": {},
     "output_type": "execute_result"
    }
   ],
   "source": [
    "d.describe()\n"
   ]
  },
  {
   "cell_type": "code",
   "execution_count": 8,
   "id": "f5b99792",
   "metadata": {
    "execution": {
     "iopub.execute_input": "2022-07-20T08:33:16.275378Z",
     "iopub.status.busy": "2022-07-20T08:33:16.274970Z",
     "iopub.status.idle": "2022-07-20T08:33:16.302695Z",
     "shell.execute_reply": "2022-07-20T08:33:16.301405Z"
    },
    "papermill": {
     "duration": 0.043164,
     "end_time": "2022-07-20T08:33:16.305869",
     "exception": false,
     "start_time": "2022-07-20T08:33:16.262705",
     "status": "completed"
    },
    "tags": []
   },
   "outputs": [
    {
     "name": "stdout",
     "output_type": "stream",
     "text": [
      "<class 'pandas.core.frame.DataFrame'>\n",
      "RangeIndex: 29531 entries, 0 to 29530\n",
      "Data columns (total 16 columns):\n",
      " #   Column      Non-Null Count  Dtype  \n",
      "---  ------      --------------  -----  \n",
      " 0   City        29531 non-null  object \n",
      " 1   Date        29531 non-null  object \n",
      " 2   PM2.5       24933 non-null  float64\n",
      " 3   PM10        18391 non-null  float64\n",
      " 4   NO          25949 non-null  float64\n",
      " 5   NO2         25946 non-null  float64\n",
      " 6   NOx         25346 non-null  float64\n",
      " 7   NH3         19203 non-null  float64\n",
      " 8   CO          27472 non-null  float64\n",
      " 9   SO2         25677 non-null  float64\n",
      " 10  O3          25509 non-null  float64\n",
      " 11  Benzene     23908 non-null  float64\n",
      " 12  Toluene     21490 non-null  float64\n",
      " 13  Xylene      11422 non-null  float64\n",
      " 14  AQI         24850 non-null  float64\n",
      " 15  AQI_Bucket  24850 non-null  object \n",
      "dtypes: float64(13), object(3)\n",
      "memory usage: 3.6+ MB\n"
     ]
    }
   ],
   "source": [
    "d.info()"
   ]
  },
  {
   "cell_type": "code",
   "execution_count": 9,
   "id": "6b340cc5",
   "metadata": {
    "execution": {
     "iopub.execute_input": "2022-07-20T08:33:16.330318Z",
     "iopub.status.busy": "2022-07-20T08:33:16.329562Z",
     "iopub.status.idle": "2022-07-20T08:33:16.364926Z",
     "shell.execute_reply": "2022-07-20T08:33:16.363822Z"
    },
    "papermill": {
     "duration": 0.0504,
     "end_time": "2022-07-20T08:33:16.367227",
     "exception": false,
     "start_time": "2022-07-20T08:33:16.316827",
     "status": "completed"
    },
    "tags": []
   },
   "outputs": [
    {
     "data": {
      "text/html": [
       "<div>\n",
       "<style scoped>\n",
       "    .dataframe tbody tr th:only-of-type {\n",
       "        vertical-align: middle;\n",
       "    }\n",
       "\n",
       "    .dataframe tbody tr th {\n",
       "        vertical-align: top;\n",
       "    }\n",
       "\n",
       "    .dataframe thead th {\n",
       "        text-align: right;\n",
       "    }\n",
       "</style>\n",
       "<table border=\"1\" class=\"dataframe\">\n",
       "  <thead>\n",
       "    <tr style=\"text-align: right;\">\n",
       "      <th></th>\n",
       "      <th>City</th>\n",
       "      <th>Date</th>\n",
       "      <th>PM2.5</th>\n",
       "      <th>PM10</th>\n",
       "      <th>NO</th>\n",
       "      <th>NO2</th>\n",
       "      <th>NOx</th>\n",
       "      <th>NH3</th>\n",
       "      <th>CO</th>\n",
       "      <th>SO2</th>\n",
       "      <th>O3</th>\n",
       "      <th>Benzene</th>\n",
       "      <th>Toluene</th>\n",
       "      <th>Xylene</th>\n",
       "      <th>AQI</th>\n",
       "      <th>AQI_Bucket</th>\n",
       "    </tr>\n",
       "  </thead>\n",
       "  <tbody>\n",
       "    <tr>\n",
       "      <th>0</th>\n",
       "      <td>False</td>\n",
       "      <td>False</td>\n",
       "      <td>True</td>\n",
       "      <td>True</td>\n",
       "      <td>False</td>\n",
       "      <td>False</td>\n",
       "      <td>False</td>\n",
       "      <td>True</td>\n",
       "      <td>False</td>\n",
       "      <td>False</td>\n",
       "      <td>False</td>\n",
       "      <td>False</td>\n",
       "      <td>False</td>\n",
       "      <td>False</td>\n",
       "      <td>True</td>\n",
       "      <td>True</td>\n",
       "    </tr>\n",
       "    <tr>\n",
       "      <th>1</th>\n",
       "      <td>False</td>\n",
       "      <td>False</td>\n",
       "      <td>True</td>\n",
       "      <td>True</td>\n",
       "      <td>False</td>\n",
       "      <td>False</td>\n",
       "      <td>False</td>\n",
       "      <td>True</td>\n",
       "      <td>False</td>\n",
       "      <td>False</td>\n",
       "      <td>False</td>\n",
       "      <td>False</td>\n",
       "      <td>False</td>\n",
       "      <td>False</td>\n",
       "      <td>True</td>\n",
       "      <td>True</td>\n",
       "    </tr>\n",
       "    <tr>\n",
       "      <th>2</th>\n",
       "      <td>False</td>\n",
       "      <td>False</td>\n",
       "      <td>True</td>\n",
       "      <td>True</td>\n",
       "      <td>False</td>\n",
       "      <td>False</td>\n",
       "      <td>False</td>\n",
       "      <td>True</td>\n",
       "      <td>False</td>\n",
       "      <td>False</td>\n",
       "      <td>False</td>\n",
       "      <td>False</td>\n",
       "      <td>False</td>\n",
       "      <td>False</td>\n",
       "      <td>True</td>\n",
       "      <td>True</td>\n",
       "    </tr>\n",
       "    <tr>\n",
       "      <th>3</th>\n",
       "      <td>False</td>\n",
       "      <td>False</td>\n",
       "      <td>True</td>\n",
       "      <td>True</td>\n",
       "      <td>False</td>\n",
       "      <td>False</td>\n",
       "      <td>False</td>\n",
       "      <td>True</td>\n",
       "      <td>False</td>\n",
       "      <td>False</td>\n",
       "      <td>False</td>\n",
       "      <td>False</td>\n",
       "      <td>False</td>\n",
       "      <td>False</td>\n",
       "      <td>True</td>\n",
       "      <td>True</td>\n",
       "    </tr>\n",
       "    <tr>\n",
       "      <th>4</th>\n",
       "      <td>False</td>\n",
       "      <td>False</td>\n",
       "      <td>True</td>\n",
       "      <td>True</td>\n",
       "      <td>False</td>\n",
       "      <td>False</td>\n",
       "      <td>False</td>\n",
       "      <td>True</td>\n",
       "      <td>False</td>\n",
       "      <td>False</td>\n",
       "      <td>False</td>\n",
       "      <td>False</td>\n",
       "      <td>False</td>\n",
       "      <td>False</td>\n",
       "      <td>True</td>\n",
       "      <td>True</td>\n",
       "    </tr>\n",
       "    <tr>\n",
       "      <th>...</th>\n",
       "      <td>...</td>\n",
       "      <td>...</td>\n",
       "      <td>...</td>\n",
       "      <td>...</td>\n",
       "      <td>...</td>\n",
       "      <td>...</td>\n",
       "      <td>...</td>\n",
       "      <td>...</td>\n",
       "      <td>...</td>\n",
       "      <td>...</td>\n",
       "      <td>...</td>\n",
       "      <td>...</td>\n",
       "      <td>...</td>\n",
       "      <td>...</td>\n",
       "      <td>...</td>\n",
       "      <td>...</td>\n",
       "    </tr>\n",
       "    <tr>\n",
       "      <th>29526</th>\n",
       "      <td>False</td>\n",
       "      <td>False</td>\n",
       "      <td>False</td>\n",
       "      <td>False</td>\n",
       "      <td>False</td>\n",
       "      <td>False</td>\n",
       "      <td>False</td>\n",
       "      <td>False</td>\n",
       "      <td>False</td>\n",
       "      <td>False</td>\n",
       "      <td>False</td>\n",
       "      <td>False</td>\n",
       "      <td>False</td>\n",
       "      <td>False</td>\n",
       "      <td>False</td>\n",
       "      <td>False</td>\n",
       "    </tr>\n",
       "    <tr>\n",
       "      <th>29527</th>\n",
       "      <td>False</td>\n",
       "      <td>False</td>\n",
       "      <td>False</td>\n",
       "      <td>False</td>\n",
       "      <td>False</td>\n",
       "      <td>False</td>\n",
       "      <td>False</td>\n",
       "      <td>False</td>\n",
       "      <td>False</td>\n",
       "      <td>False</td>\n",
       "      <td>False</td>\n",
       "      <td>False</td>\n",
       "      <td>False</td>\n",
       "      <td>False</td>\n",
       "      <td>False</td>\n",
       "      <td>False</td>\n",
       "    </tr>\n",
       "    <tr>\n",
       "      <th>29528</th>\n",
       "      <td>False</td>\n",
       "      <td>False</td>\n",
       "      <td>False</td>\n",
       "      <td>False</td>\n",
       "      <td>False</td>\n",
       "      <td>False</td>\n",
       "      <td>False</td>\n",
       "      <td>False</td>\n",
       "      <td>False</td>\n",
       "      <td>False</td>\n",
       "      <td>False</td>\n",
       "      <td>False</td>\n",
       "      <td>False</td>\n",
       "      <td>False</td>\n",
       "      <td>False</td>\n",
       "      <td>False</td>\n",
       "    </tr>\n",
       "    <tr>\n",
       "      <th>29529</th>\n",
       "      <td>False</td>\n",
       "      <td>False</td>\n",
       "      <td>False</td>\n",
       "      <td>False</td>\n",
       "      <td>False</td>\n",
       "      <td>False</td>\n",
       "      <td>False</td>\n",
       "      <td>False</td>\n",
       "      <td>False</td>\n",
       "      <td>False</td>\n",
       "      <td>False</td>\n",
       "      <td>False</td>\n",
       "      <td>False</td>\n",
       "      <td>False</td>\n",
       "      <td>False</td>\n",
       "      <td>False</td>\n",
       "    </tr>\n",
       "    <tr>\n",
       "      <th>29530</th>\n",
       "      <td>False</td>\n",
       "      <td>False</td>\n",
       "      <td>False</td>\n",
       "      <td>False</td>\n",
       "      <td>False</td>\n",
       "      <td>False</td>\n",
       "      <td>False</td>\n",
       "      <td>False</td>\n",
       "      <td>False</td>\n",
       "      <td>False</td>\n",
       "      <td>False</td>\n",
       "      <td>True</td>\n",
       "      <td>True</td>\n",
       "      <td>True</td>\n",
       "      <td>False</td>\n",
       "      <td>False</td>\n",
       "    </tr>\n",
       "  </tbody>\n",
       "</table>\n",
       "<p>29531 rows × 16 columns</p>\n",
       "</div>"
      ],
      "text/plain": [
       "        City   Date  PM2.5   PM10     NO    NO2    NOx    NH3     CO    SO2  \\\n",
       "0      False  False   True   True  False  False  False   True  False  False   \n",
       "1      False  False   True   True  False  False  False   True  False  False   \n",
       "2      False  False   True   True  False  False  False   True  False  False   \n",
       "3      False  False   True   True  False  False  False   True  False  False   \n",
       "4      False  False   True   True  False  False  False   True  False  False   \n",
       "...      ...    ...    ...    ...    ...    ...    ...    ...    ...    ...   \n",
       "29526  False  False  False  False  False  False  False  False  False  False   \n",
       "29527  False  False  False  False  False  False  False  False  False  False   \n",
       "29528  False  False  False  False  False  False  False  False  False  False   \n",
       "29529  False  False  False  False  False  False  False  False  False  False   \n",
       "29530  False  False  False  False  False  False  False  False  False  False   \n",
       "\n",
       "          O3  Benzene  Toluene  Xylene    AQI  AQI_Bucket  \n",
       "0      False    False    False   False   True        True  \n",
       "1      False    False    False   False   True        True  \n",
       "2      False    False    False   False   True        True  \n",
       "3      False    False    False   False   True        True  \n",
       "4      False    False    False   False   True        True  \n",
       "...      ...      ...      ...     ...    ...         ...  \n",
       "29526  False    False    False   False  False       False  \n",
       "29527  False    False    False   False  False       False  \n",
       "29528  False    False    False   False  False       False  \n",
       "29529  False    False    False   False  False       False  \n",
       "29530  False     True     True    True  False       False  \n",
       "\n",
       "[29531 rows x 16 columns]"
      ]
     },
     "execution_count": 9,
     "metadata": {},
     "output_type": "execute_result"
    }
   ],
   "source": [
    "d.isnull()"
   ]
  },
  {
   "cell_type": "code",
   "execution_count": 10,
   "id": "7c5bd103",
   "metadata": {
    "execution": {
     "iopub.execute_input": "2022-07-20T08:33:16.393075Z",
     "iopub.status.busy": "2022-07-20T08:33:16.392287Z",
     "iopub.status.idle": "2022-07-20T08:33:16.412134Z",
     "shell.execute_reply": "2022-07-20T08:33:16.410889Z"
    },
    "papermill": {
     "duration": 0.036206,
     "end_time": "2022-07-20T08:33:16.414773",
     "exception": false,
     "start_time": "2022-07-20T08:33:16.378567",
     "status": "completed"
    },
    "tags": []
   },
   "outputs": [
    {
     "data": {
      "text/plain": [
       "City              0\n",
       "Date              0\n",
       "PM2.5          4598\n",
       "PM10          11140\n",
       "NO             3582\n",
       "NO2            3585\n",
       "NOx            4185\n",
       "NH3           10328\n",
       "CO             2059\n",
       "SO2            3854\n",
       "O3             4022\n",
       "Benzene        5623\n",
       "Toluene        8041\n",
       "Xylene        18109\n",
       "AQI            4681\n",
       "AQI_Bucket     4681\n",
       "dtype: int64"
      ]
     },
     "execution_count": 10,
     "metadata": {},
     "output_type": "execute_result"
    }
   ],
   "source": [
    "d.isnull().sum()"
   ]
  },
  {
   "cell_type": "code",
   "execution_count": 11,
   "id": "cc9f6866",
   "metadata": {
    "execution": {
     "iopub.execute_input": "2022-07-20T08:33:16.440446Z",
     "iopub.status.busy": "2022-07-20T08:33:16.439241Z",
     "iopub.status.idle": "2022-07-20T08:33:16.445917Z",
     "shell.execute_reply": "2022-07-20T08:33:16.445159Z"
    },
    "papermill": {
     "duration": 0.021817,
     "end_time": "2022-07-20T08:33:16.448062",
     "exception": false,
     "start_time": "2022-07-20T08:33:16.426245",
     "status": "completed"
    },
    "tags": []
   },
   "outputs": [],
   "source": [
    "pmean=d[\"PM2.5\"].mean()\n",
    "d[\"PM2.5\"].fillna(pmean,inplace=True)"
   ]
  },
  {
   "cell_type": "code",
   "execution_count": 12,
   "id": "d1a07718",
   "metadata": {
    "execution": {
     "iopub.execute_input": "2022-07-20T08:33:16.473480Z",
     "iopub.status.busy": "2022-07-20T08:33:16.472269Z",
     "iopub.status.idle": "2022-07-20T08:33:16.478711Z",
     "shell.execute_reply": "2022-07-20T08:33:16.477950Z"
    },
    "papermill": {
     "duration": 0.021383,
     "end_time": "2022-07-20T08:33:16.480859",
     "exception": false,
     "start_time": "2022-07-20T08:33:16.459476",
     "status": "completed"
    },
    "tags": []
   },
   "outputs": [],
   "source": [
    "pmmean=d[\"PM10\"].mean()\n",
    "d[\"PM10\"].fillna(pmmean,inplace=True)\n"
   ]
  },
  {
   "cell_type": "code",
   "execution_count": 13,
   "id": "667a7362",
   "metadata": {
    "execution": {
     "iopub.execute_input": "2022-07-20T08:33:16.506537Z",
     "iopub.status.busy": "2022-07-20T08:33:16.505793Z",
     "iopub.status.idle": "2022-07-20T08:33:16.511968Z",
     "shell.execute_reply": "2022-07-20T08:33:16.511163Z"
    },
    "papermill": {
     "duration": 0.021993,
     "end_time": "2022-07-20T08:33:16.514278",
     "exception": false,
     "start_time": "2022-07-20T08:33:16.492285",
     "status": "completed"
    },
    "tags": []
   },
   "outputs": [],
   "source": [
    "nmean=d[\"NO\"].mean()\n",
    "d[\"NO\"].fillna(nmean,inplace=True)"
   ]
  },
  {
   "cell_type": "code",
   "execution_count": 14,
   "id": "460f1c84",
   "metadata": {
    "execution": {
     "iopub.execute_input": "2022-07-20T08:33:16.539733Z",
     "iopub.status.busy": "2022-07-20T08:33:16.539314Z",
     "iopub.status.idle": "2022-07-20T08:33:16.545876Z",
     "shell.execute_reply": "2022-07-20T08:33:16.544876Z"
    },
    "papermill": {
     "duration": 0.021927,
     "end_time": "2022-07-20T08:33:16.548384",
     "exception": false,
     "start_time": "2022-07-20T08:33:16.526457",
     "status": "completed"
    },
    "tags": []
   },
   "outputs": [],
   "source": [
    "nomean=d[\"NO2\"].mean()\n",
    "d[\"NO2\"].fillna(nomean,inplace=True)"
   ]
  },
  {
   "cell_type": "code",
   "execution_count": 15,
   "id": "75c030a0",
   "metadata": {
    "execution": {
     "iopub.execute_input": "2022-07-20T08:33:16.573736Z",
     "iopub.status.busy": "2022-07-20T08:33:16.573347Z",
     "iopub.status.idle": "2022-07-20T08:33:16.579576Z",
     "shell.execute_reply": "2022-07-20T08:33:16.578427Z"
    },
    "papermill": {
     "duration": 0.02193,
     "end_time": "2022-07-20T08:33:16.581884",
     "exception": false,
     "start_time": "2022-07-20T08:33:16.559954",
     "status": "completed"
    },
    "tags": []
   },
   "outputs": [],
   "source": [
    "noxmean=d[\"NOx\"].mean()\n",
    "d[\"NOx\"].fillna(noxmean,inplace=True)"
   ]
  },
  {
   "cell_type": "code",
   "execution_count": 16,
   "id": "e0798839",
   "metadata": {
    "execution": {
     "iopub.execute_input": "2022-07-20T08:33:16.606633Z",
     "iopub.status.busy": "2022-07-20T08:33:16.606250Z",
     "iopub.status.idle": "2022-07-20T08:33:16.612375Z",
     "shell.execute_reply": "2022-07-20T08:33:16.611463Z"
    },
    "papermill": {
     "duration": 0.021315,
     "end_time": "2022-07-20T08:33:16.614634",
     "exception": false,
     "start_time": "2022-07-20T08:33:16.593319",
     "status": "completed"
    },
    "tags": []
   },
   "outputs": [],
   "source": [
    "nhmean=d[\"NH3\"].mean()\n",
    "d[\"NH3\"].fillna(nhmean,inplace=True)"
   ]
  },
  {
   "cell_type": "code",
   "execution_count": 17,
   "id": "6eed281e",
   "metadata": {
    "execution": {
     "iopub.execute_input": "2022-07-20T08:33:16.639561Z",
     "iopub.status.busy": "2022-07-20T08:33:16.639171Z",
     "iopub.status.idle": "2022-07-20T08:33:16.645429Z",
     "shell.execute_reply": "2022-07-20T08:33:16.644557Z"
    },
    "papermill": {
     "duration": 0.021619,
     "end_time": "2022-07-20T08:33:16.647751",
     "exception": false,
     "start_time": "2022-07-20T08:33:16.626132",
     "status": "completed"
    },
    "tags": []
   },
   "outputs": [],
   "source": [
    "cmean=d[\"CO\"].mean()\n",
    "d[\"CO\"].fillna(cmean,inplace=True)"
   ]
  },
  {
   "cell_type": "code",
   "execution_count": 18,
   "id": "1764ed48",
   "metadata": {
    "execution": {
     "iopub.execute_input": "2022-07-20T08:33:16.673248Z",
     "iopub.status.busy": "2022-07-20T08:33:16.672870Z",
     "iopub.status.idle": "2022-07-20T08:33:16.679236Z",
     "shell.execute_reply": "2022-07-20T08:33:16.678174Z"
    },
    "papermill": {
     "duration": 0.02165,
     "end_time": "2022-07-20T08:33:16.681541",
     "exception": false,
     "start_time": "2022-07-20T08:33:16.659891",
     "status": "completed"
    },
    "tags": []
   },
   "outputs": [],
   "source": [
    "smean=d[\"SO2\"].mean()\n",
    "d[\"SO2\"].fillna(smean,inplace=True)"
   ]
  },
  {
   "cell_type": "code",
   "execution_count": 19,
   "id": "c231cdba",
   "metadata": {
    "execution": {
     "iopub.execute_input": "2022-07-20T08:33:16.707231Z",
     "iopub.status.busy": "2022-07-20T08:33:16.706551Z",
     "iopub.status.idle": "2022-07-20T08:33:16.712198Z",
     "shell.execute_reply": "2022-07-20T08:33:16.711406Z"
    },
    "papermill": {
     "duration": 0.02099,
     "end_time": "2022-07-20T08:33:16.714256",
     "exception": false,
     "start_time": "2022-07-20T08:33:16.693266",
     "status": "completed"
    },
    "tags": []
   },
   "outputs": [],
   "source": [
    "omean=d[\"O3\"].mean()\n",
    "d[\"O3\"].fillna(omean,inplace=True)"
   ]
  },
  {
   "cell_type": "code",
   "execution_count": 20,
   "id": "a85b610e",
   "metadata": {
    "execution": {
     "iopub.execute_input": "2022-07-20T08:33:16.740196Z",
     "iopub.status.busy": "2022-07-20T08:33:16.739458Z",
     "iopub.status.idle": "2022-07-20T08:33:16.745568Z",
     "shell.execute_reply": "2022-07-20T08:33:16.744479Z"
    },
    "papermill": {
     "duration": 0.021901,
     "end_time": "2022-07-20T08:33:16.747900",
     "exception": false,
     "start_time": "2022-07-20T08:33:16.725999",
     "status": "completed"
    },
    "tags": []
   },
   "outputs": [],
   "source": [
    "bmean=d[\"Benzene\"].mean()\n",
    "d[\"Benzene\"].fillna(bmean,inplace=True)"
   ]
  },
  {
   "cell_type": "code",
   "execution_count": 21,
   "id": "29d93151",
   "metadata": {
    "execution": {
     "iopub.execute_input": "2022-07-20T08:33:16.774109Z",
     "iopub.status.busy": "2022-07-20T08:33:16.773683Z",
     "iopub.status.idle": "2022-07-20T08:33:16.780088Z",
     "shell.execute_reply": "2022-07-20T08:33:16.779297Z"
    },
    "papermill": {
     "duration": 0.021675,
     "end_time": "2022-07-20T08:33:16.782233",
     "exception": false,
     "start_time": "2022-07-20T08:33:16.760558",
     "status": "completed"
    },
    "tags": []
   },
   "outputs": [],
   "source": [
    "tmean=d[\"Toluene\"].mean()\n",
    "d[\"Toluene\"].fillna(tmean,inplace=True)"
   ]
  },
  {
   "cell_type": "code",
   "execution_count": 22,
   "id": "01bd4b1a",
   "metadata": {
    "execution": {
     "iopub.execute_input": "2022-07-20T08:33:16.809740Z",
     "iopub.status.busy": "2022-07-20T08:33:16.809318Z",
     "iopub.status.idle": "2022-07-20T08:33:16.816123Z",
     "shell.execute_reply": "2022-07-20T08:33:16.815133Z"
    },
    "papermill": {
     "duration": 0.023868,
     "end_time": "2022-07-20T08:33:16.818416",
     "exception": false,
     "start_time": "2022-07-20T08:33:16.794548",
     "status": "completed"
    },
    "tags": []
   },
   "outputs": [],
   "source": [
    "xmean=d[\"Xylene\"].mean()\n",
    "d[\"Xylene\"].fillna(xmean,inplace=True)"
   ]
  },
  {
   "cell_type": "code",
   "execution_count": 23,
   "id": "f821cf24",
   "metadata": {
    "execution": {
     "iopub.execute_input": "2022-07-20T08:33:16.843872Z",
     "iopub.status.busy": "2022-07-20T08:33:16.843007Z",
     "iopub.status.idle": "2022-07-20T08:33:16.850469Z",
     "shell.execute_reply": "2022-07-20T08:33:16.849429Z"
    },
    "papermill": {
     "duration": 0.02301,
     "end_time": "2022-07-20T08:33:16.853040",
     "exception": false,
     "start_time": "2022-07-20T08:33:16.830030",
     "status": "completed"
    },
    "tags": []
   },
   "outputs": [],
   "source": [
    "amean=d[\"AQI\"].mean()\n",
    "d[\"AQI\"].fillna(amean,inplace=True)"
   ]
  },
  {
   "cell_type": "code",
   "execution_count": 24,
   "id": "0125bd03",
   "metadata": {
    "execution": {
     "iopub.execute_input": "2022-07-20T08:33:16.878957Z",
     "iopub.status.busy": "2022-07-20T08:33:16.878577Z",
     "iopub.status.idle": "2022-07-20T08:33:16.898487Z",
     "shell.execute_reply": "2022-07-20T08:33:16.897419Z"
    },
    "papermill": {
     "duration": 0.036043,
     "end_time": "2022-07-20T08:33:16.900806",
     "exception": false,
     "start_time": "2022-07-20T08:33:16.864763",
     "status": "completed"
    },
    "tags": []
   },
   "outputs": [
    {
     "data": {
      "text/plain": [
       "City             0\n",
       "Date             0\n",
       "PM2.5            0\n",
       "PM10             0\n",
       "NO               0\n",
       "NO2              0\n",
       "NOx              0\n",
       "NH3              0\n",
       "CO               0\n",
       "SO2              0\n",
       "O3               0\n",
       "Benzene          0\n",
       "Toluene          0\n",
       "Xylene           0\n",
       "AQI              0\n",
       "AQI_Bucket    4681\n",
       "dtype: int64"
      ]
     },
     "execution_count": 24,
     "metadata": {},
     "output_type": "execute_result"
    }
   ],
   "source": [
    "d.isnull().sum()"
   ]
  },
  {
   "cell_type": "code",
   "execution_count": 25,
   "id": "6dcc4c1a",
   "metadata": {
    "execution": {
     "iopub.execute_input": "2022-07-20T08:33:16.926154Z",
     "iopub.status.busy": "2022-07-20T08:33:16.925790Z",
     "iopub.status.idle": "2022-07-20T08:33:16.957331Z",
     "shell.execute_reply": "2022-07-20T08:33:16.956258Z"
    },
    "papermill": {
     "duration": 0.047406,
     "end_time": "2022-07-20T08:33:16.959854",
     "exception": false,
     "start_time": "2022-07-20T08:33:16.912448",
     "status": "completed"
    },
    "tags": []
   },
   "outputs": [
    {
     "data": {
      "text/html": [
       "<div>\n",
       "<style scoped>\n",
       "    .dataframe tbody tr th:only-of-type {\n",
       "        vertical-align: middle;\n",
       "    }\n",
       "\n",
       "    .dataframe tbody tr th {\n",
       "        vertical-align: top;\n",
       "    }\n",
       "\n",
       "    .dataframe thead th {\n",
       "        text-align: right;\n",
       "    }\n",
       "</style>\n",
       "<table border=\"1\" class=\"dataframe\">\n",
       "  <thead>\n",
       "    <tr style=\"text-align: right;\">\n",
       "      <th></th>\n",
       "      <th>City</th>\n",
       "      <th>Date</th>\n",
       "      <th>PM2.5</th>\n",
       "      <th>PM10</th>\n",
       "      <th>NO</th>\n",
       "      <th>NO2</th>\n",
       "      <th>NOx</th>\n",
       "      <th>NH3</th>\n",
       "      <th>CO</th>\n",
       "      <th>SO2</th>\n",
       "      <th>O3</th>\n",
       "      <th>Benzene</th>\n",
       "      <th>Toluene</th>\n",
       "      <th>Xylene</th>\n",
       "      <th>AQI</th>\n",
       "      <th>AQI_Bucket</th>\n",
       "    </tr>\n",
       "  </thead>\n",
       "  <tbody>\n",
       "    <tr>\n",
       "      <th>0</th>\n",
       "      <td>Ahmedabad</td>\n",
       "      <td>2015-01-01</td>\n",
       "      <td>67.450578</td>\n",
       "      <td>118.127103</td>\n",
       "      <td>0.92</td>\n",
       "      <td>18.22</td>\n",
       "      <td>17.15</td>\n",
       "      <td>23.483476</td>\n",
       "      <td>0.92</td>\n",
       "      <td>27.64</td>\n",
       "      <td>133.36</td>\n",
       "      <td>0.00000</td>\n",
       "      <td>0.020000</td>\n",
       "      <td>0.000000</td>\n",
       "      <td>166.463581</td>\n",
       "      <td>NaN</td>\n",
       "    </tr>\n",
       "    <tr>\n",
       "      <th>1</th>\n",
       "      <td>Ahmedabad</td>\n",
       "      <td>2015-01-02</td>\n",
       "      <td>67.450578</td>\n",
       "      <td>118.127103</td>\n",
       "      <td>0.97</td>\n",
       "      <td>15.69</td>\n",
       "      <td>16.46</td>\n",
       "      <td>23.483476</td>\n",
       "      <td>0.97</td>\n",
       "      <td>24.55</td>\n",
       "      <td>34.06</td>\n",
       "      <td>3.68000</td>\n",
       "      <td>5.500000</td>\n",
       "      <td>3.770000</td>\n",
       "      <td>166.463581</td>\n",
       "      <td>NaN</td>\n",
       "    </tr>\n",
       "    <tr>\n",
       "      <th>2</th>\n",
       "      <td>Ahmedabad</td>\n",
       "      <td>2015-01-03</td>\n",
       "      <td>67.450578</td>\n",
       "      <td>118.127103</td>\n",
       "      <td>17.40</td>\n",
       "      <td>19.30</td>\n",
       "      <td>29.70</td>\n",
       "      <td>23.483476</td>\n",
       "      <td>17.40</td>\n",
       "      <td>29.07</td>\n",
       "      <td>30.70</td>\n",
       "      <td>6.80000</td>\n",
       "      <td>16.400000</td>\n",
       "      <td>2.250000</td>\n",
       "      <td>166.463581</td>\n",
       "      <td>NaN</td>\n",
       "    </tr>\n",
       "    <tr>\n",
       "      <th>3</th>\n",
       "      <td>Ahmedabad</td>\n",
       "      <td>2015-01-04</td>\n",
       "      <td>67.450578</td>\n",
       "      <td>118.127103</td>\n",
       "      <td>1.70</td>\n",
       "      <td>18.48</td>\n",
       "      <td>17.97</td>\n",
       "      <td>23.483476</td>\n",
       "      <td>1.70</td>\n",
       "      <td>18.59</td>\n",
       "      <td>36.08</td>\n",
       "      <td>4.43000</td>\n",
       "      <td>10.140000</td>\n",
       "      <td>1.000000</td>\n",
       "      <td>166.463581</td>\n",
       "      <td>NaN</td>\n",
       "    </tr>\n",
       "    <tr>\n",
       "      <th>4</th>\n",
       "      <td>Ahmedabad</td>\n",
       "      <td>2015-01-05</td>\n",
       "      <td>67.450578</td>\n",
       "      <td>118.127103</td>\n",
       "      <td>22.10</td>\n",
       "      <td>21.42</td>\n",
       "      <td>37.76</td>\n",
       "      <td>23.483476</td>\n",
       "      <td>22.10</td>\n",
       "      <td>39.33</td>\n",
       "      <td>39.31</td>\n",
       "      <td>7.01000</td>\n",
       "      <td>18.890000</td>\n",
       "      <td>2.780000</td>\n",
       "      <td>166.463581</td>\n",
       "      <td>NaN</td>\n",
       "    </tr>\n",
       "    <tr>\n",
       "      <th>...</th>\n",
       "      <td>...</td>\n",
       "      <td>...</td>\n",
       "      <td>...</td>\n",
       "      <td>...</td>\n",
       "      <td>...</td>\n",
       "      <td>...</td>\n",
       "      <td>...</td>\n",
       "      <td>...</td>\n",
       "      <td>...</td>\n",
       "      <td>...</td>\n",
       "      <td>...</td>\n",
       "      <td>...</td>\n",
       "      <td>...</td>\n",
       "      <td>...</td>\n",
       "      <td>...</td>\n",
       "      <td>...</td>\n",
       "    </tr>\n",
       "    <tr>\n",
       "      <th>29526</th>\n",
       "      <td>Visakhapatnam</td>\n",
       "      <td>2020-06-27</td>\n",
       "      <td>15.020000</td>\n",
       "      <td>50.940000</td>\n",
       "      <td>7.68</td>\n",
       "      <td>25.06</td>\n",
       "      <td>19.54</td>\n",
       "      <td>12.470000</td>\n",
       "      <td>0.47</td>\n",
       "      <td>8.55</td>\n",
       "      <td>23.30</td>\n",
       "      <td>2.24000</td>\n",
       "      <td>12.070000</td>\n",
       "      <td>0.730000</td>\n",
       "      <td>41.000000</td>\n",
       "      <td>Good</td>\n",
       "    </tr>\n",
       "    <tr>\n",
       "      <th>29527</th>\n",
       "      <td>Visakhapatnam</td>\n",
       "      <td>2020-06-28</td>\n",
       "      <td>24.380000</td>\n",
       "      <td>74.090000</td>\n",
       "      <td>3.42</td>\n",
       "      <td>26.06</td>\n",
       "      <td>16.53</td>\n",
       "      <td>11.990000</td>\n",
       "      <td>0.52</td>\n",
       "      <td>12.72</td>\n",
       "      <td>30.14</td>\n",
       "      <td>0.74000</td>\n",
       "      <td>2.210000</td>\n",
       "      <td>0.380000</td>\n",
       "      <td>70.000000</td>\n",
       "      <td>Satisfactory</td>\n",
       "    </tr>\n",
       "    <tr>\n",
       "      <th>29528</th>\n",
       "      <td>Visakhapatnam</td>\n",
       "      <td>2020-06-29</td>\n",
       "      <td>22.910000</td>\n",
       "      <td>65.730000</td>\n",
       "      <td>3.45</td>\n",
       "      <td>29.53</td>\n",
       "      <td>18.33</td>\n",
       "      <td>10.710000</td>\n",
       "      <td>0.48</td>\n",
       "      <td>8.42</td>\n",
       "      <td>30.96</td>\n",
       "      <td>0.01000</td>\n",
       "      <td>0.010000</td>\n",
       "      <td>0.000000</td>\n",
       "      <td>68.000000</td>\n",
       "      <td>Satisfactory</td>\n",
       "    </tr>\n",
       "    <tr>\n",
       "      <th>29529</th>\n",
       "      <td>Visakhapatnam</td>\n",
       "      <td>2020-06-30</td>\n",
       "      <td>16.640000</td>\n",
       "      <td>49.970000</td>\n",
       "      <td>4.05</td>\n",
       "      <td>29.26</td>\n",
       "      <td>18.80</td>\n",
       "      <td>10.030000</td>\n",
       "      <td>0.52</td>\n",
       "      <td>9.84</td>\n",
       "      <td>28.30</td>\n",
       "      <td>0.00000</td>\n",
       "      <td>0.000000</td>\n",
       "      <td>0.000000</td>\n",
       "      <td>54.000000</td>\n",
       "      <td>Satisfactory</td>\n",
       "    </tr>\n",
       "    <tr>\n",
       "      <th>29530</th>\n",
       "      <td>Visakhapatnam</td>\n",
       "      <td>2020-07-01</td>\n",
       "      <td>15.000000</td>\n",
       "      <td>66.000000</td>\n",
       "      <td>0.40</td>\n",
       "      <td>26.85</td>\n",
       "      <td>14.05</td>\n",
       "      <td>5.200000</td>\n",
       "      <td>0.59</td>\n",
       "      <td>2.10</td>\n",
       "      <td>17.05</td>\n",
       "      <td>3.28084</td>\n",
       "      <td>8.700972</td>\n",
       "      <td>3.070128</td>\n",
       "      <td>50.000000</td>\n",
       "      <td>Good</td>\n",
       "    </tr>\n",
       "  </tbody>\n",
       "</table>\n",
       "<p>29531 rows × 16 columns</p>\n",
       "</div>"
      ],
      "text/plain": [
       "                City        Date      PM2.5        PM10     NO    NO2    NOx  \\\n",
       "0          Ahmedabad  2015-01-01  67.450578  118.127103   0.92  18.22  17.15   \n",
       "1          Ahmedabad  2015-01-02  67.450578  118.127103   0.97  15.69  16.46   \n",
       "2          Ahmedabad  2015-01-03  67.450578  118.127103  17.40  19.30  29.70   \n",
       "3          Ahmedabad  2015-01-04  67.450578  118.127103   1.70  18.48  17.97   \n",
       "4          Ahmedabad  2015-01-05  67.450578  118.127103  22.10  21.42  37.76   \n",
       "...              ...         ...        ...         ...    ...    ...    ...   \n",
       "29526  Visakhapatnam  2020-06-27  15.020000   50.940000   7.68  25.06  19.54   \n",
       "29527  Visakhapatnam  2020-06-28  24.380000   74.090000   3.42  26.06  16.53   \n",
       "29528  Visakhapatnam  2020-06-29  22.910000   65.730000   3.45  29.53  18.33   \n",
       "29529  Visakhapatnam  2020-06-30  16.640000   49.970000   4.05  29.26  18.80   \n",
       "29530  Visakhapatnam  2020-07-01  15.000000   66.000000   0.40  26.85  14.05   \n",
       "\n",
       "             NH3     CO    SO2      O3  Benzene    Toluene    Xylene  \\\n",
       "0      23.483476   0.92  27.64  133.36  0.00000   0.020000  0.000000   \n",
       "1      23.483476   0.97  24.55   34.06  3.68000   5.500000  3.770000   \n",
       "2      23.483476  17.40  29.07   30.70  6.80000  16.400000  2.250000   \n",
       "3      23.483476   1.70  18.59   36.08  4.43000  10.140000  1.000000   \n",
       "4      23.483476  22.10  39.33   39.31  7.01000  18.890000  2.780000   \n",
       "...          ...    ...    ...     ...      ...        ...       ...   \n",
       "29526  12.470000   0.47   8.55   23.30  2.24000  12.070000  0.730000   \n",
       "29527  11.990000   0.52  12.72   30.14  0.74000   2.210000  0.380000   \n",
       "29528  10.710000   0.48   8.42   30.96  0.01000   0.010000  0.000000   \n",
       "29529  10.030000   0.52   9.84   28.30  0.00000   0.000000  0.000000   \n",
       "29530   5.200000   0.59   2.10   17.05  3.28084   8.700972  3.070128   \n",
       "\n",
       "              AQI    AQI_Bucket  \n",
       "0      166.463581           NaN  \n",
       "1      166.463581           NaN  \n",
       "2      166.463581           NaN  \n",
       "3      166.463581           NaN  \n",
       "4      166.463581           NaN  \n",
       "...           ...           ...  \n",
       "29526   41.000000          Good  \n",
       "29527   70.000000  Satisfactory  \n",
       "29528   68.000000  Satisfactory  \n",
       "29529   54.000000  Satisfactory  \n",
       "29530   50.000000          Good  \n",
       "\n",
       "[29531 rows x 16 columns]"
      ]
     },
     "execution_count": 25,
     "metadata": {},
     "output_type": "execute_result"
    }
   ],
   "source": [
    "d\n"
   ]
  },
  {
   "cell_type": "code",
   "execution_count": 26,
   "id": "32e2ace2",
   "metadata": {
    "execution": {
     "iopub.execute_input": "2022-07-20T08:33:16.987062Z",
     "iopub.status.busy": "2022-07-20T08:33:16.986675Z",
     "iopub.status.idle": "2022-07-20T08:33:17.611375Z",
     "shell.execute_reply": "2022-07-20T08:33:17.610139Z"
    },
    "papermill": {
     "duration": 0.641178,
     "end_time": "2022-07-20T08:33:17.613753",
     "exception": false,
     "start_time": "2022-07-20T08:33:16.972575",
     "status": "completed"
    },
    "tags": []
   },
   "outputs": [
    {
     "data": {
      "text/plain": [
       "<AxesSubplot:>"
      ]
     },
     "execution_count": 26,
     "metadata": {},
     "output_type": "execute_result"
    },
    {
     "data": {
      "image/png": "[encoded data removed]",
      "text/plain": [
       "<Figure size 432x288 with 1 Axes>"
      ]
     },
     "metadata": {
      "needs_background": "light"
     },
     "output_type": "display_data"
    }
   ],
   "source": [
    "sns.heatmap(d.isnull(),yticklabels=False,cbar=False,cmap='viridis')"
   ]
  },
  {
   "cell_type": "code",
   "execution_count": 27,
   "id": "f7f46aae",
   "metadata": {
    "execution": {
     "iopub.execute_input": "2022-07-20T08:33:17.640667Z",
     "iopub.status.busy": "2022-07-20T08:33:17.640264Z",
     "iopub.status.idle": "2022-07-20T08:33:17.891022Z",
     "shell.execute_reply": "2022-07-20T08:33:17.889828Z"
    },
    "papermill": {
     "duration": 0.267499,
     "end_time": "2022-07-20T08:33:17.893769",
     "exception": false,
     "start_time": "2022-07-20T08:33:17.626270",
     "status": "completed"
    },
    "tags": []
   },
   "outputs": [
    {
     "data": {
      "text/plain": [
       "<function matplotlib.pyplot.plot(*args, scalex=True, scaley=True, data=None, **kwargs)>"
      ]
     },
     "execution_count": 27,
     "metadata": {},
     "output_type": "execute_result"
    },
    {
     "data": {
      "image/png": "[encoded data removed]",
      "text/plain": [
       "<Figure size 432x288 with 1 Axes>"
      ]
     },
     "metadata": {
      "needs_background": "light"
     },
     "output_type": "display_data"
    }
   ],
   "source": [
    "plt.scatter(d.CO,d.AQI,color='green',marker='*')\n",
    "plt.plot(d.NO,d.AQI,)\n",
    "plt.plot"
   ]
  },
  {
   "cell_type": "code",
   "execution_count": 28,
   "id": "553f9761",
   "metadata": {
    "execution": {
     "iopub.execute_input": "2022-07-20T08:33:17.924102Z",
     "iopub.status.busy": "2022-07-20T08:33:17.923692Z",
     "iopub.status.idle": "2022-07-20T08:33:17.931031Z",
     "shell.execute_reply": "2022-07-20T08:33:17.929664Z"
    },
    "papermill": {
     "duration": 0.025681,
     "end_time": "2022-07-20T08:33:17.933305",
     "exception": false,
     "start_time": "2022-07-20T08:33:17.907624",
     "status": "completed"
    },
    "tags": []
   },
   "outputs": [],
   "source": [
    "x=d.iloc[:,2:13].values\n",
    "y=d.iloc[:,-2].values"
   ]
  },
  {
   "cell_type": "code",
   "execution_count": 29,
   "id": "50b31d43",
   "metadata": {
    "execution": {
     "iopub.execute_input": "2022-07-20T08:33:17.962496Z",
     "iopub.status.busy": "2022-07-20T08:33:17.962088Z",
     "iopub.status.idle": "2022-07-20T08:33:17.969810Z",
     "shell.execute_reply": "2022-07-20T08:33:17.968755Z"
    },
    "papermill": {
     "duration": 0.025413,
     "end_time": "2022-07-20T08:33:17.972142",
     "exception": false,
     "start_time": "2022-07-20T08:33:17.946729",
     "status": "completed"
    },
    "tags": []
   },
   "outputs": [
    {
     "data": {
      "text/plain": [
       "array([[6.74505779e+01, 1.18127103e+02, 9.20000000e-01, ...,\n",
       "        1.33360000e+02, 0.00000000e+00, 2.00000000e-02],\n",
       "       [6.74505779e+01, 1.18127103e+02, 9.70000000e-01, ...,\n",
       "        3.40600000e+01, 3.68000000e+00, 5.50000000e+00],\n",
       "       [6.74505779e+01, 1.18127103e+02, 1.74000000e+01, ...,\n",
       "        3.07000000e+01, 6.80000000e+00, 1.64000000e+01],\n",
       "       ...,\n",
       "       [2.29100000e+01, 6.57300000e+01, 3.45000000e+00, ...,\n",
       "        3.09600000e+01, 1.00000000e-02, 1.00000000e-02],\n",
       "       [1.66400000e+01, 4.99700000e+01, 4.05000000e+00, ...,\n",
       "        2.83000000e+01, 0.00000000e+00, 0.00000000e+00],\n",
       "       [1.50000000e+01, 6.60000000e+01, 4.00000000e-01, ...,\n",
       "        1.70500000e+01, 3.28084030e+00, 8.70097208e+00]])"
      ]
     },
     "execution_count": 29,
     "metadata": {},
     "output_type": "execute_result"
    }
   ],
   "source": [
    "x"
   ]
  },
  {
   "cell_type": "code",
   "execution_count": 30,
   "id": "586997ad",
   "metadata": {
    "execution": {
     "iopub.execute_input": "2022-07-20T08:33:18.000763Z",
     "iopub.status.busy": "2022-07-20T08:33:18.000341Z",
     "iopub.status.idle": "2022-07-20T08:33:18.008064Z",
     "shell.execute_reply": "2022-07-20T08:33:18.006911Z"
    },
    "papermill": {
     "duration": 0.025283,
     "end_time": "2022-07-20T08:33:18.010817",
     "exception": false,
     "start_time": "2022-07-20T08:33:17.985534",
     "status": "completed"
    },
    "tags": []
   },
   "outputs": [
    {
     "data": {
      "text/plain": [
       "array([166.46358149, 166.46358149, 166.46358149, ...,  68.        ,\n",
       "        54.        ,  50.        ])"
      ]
     },
     "execution_count": 30,
     "metadata": {},
     "output_type": "execute_result"
    }
   ],
   "source": [
    "y"
   ]
  },
  {
   "cell_type": "markdown",
   "id": "555565f5",
   "metadata": {
    "papermill": {
     "duration": 0.013567,
     "end_time": "2022-07-20T08:33:18.038899",
     "exception": false,
     "start_time": "2022-07-20T08:33:18.025332",
     "status": "completed"
    },
    "tags": []
   },
   "source": [
    "# Create the linear regression object"
   ]
  },
  {
   "cell_type": "code",
   "execution_count": 31,
   "id": "daef281d",
   "metadata": {
    "execution": {
     "iopub.execute_input": "2022-07-20T08:33:18.068543Z",
     "iopub.status.busy": "2022-07-20T08:33:18.068138Z",
     "iopub.status.idle": "2022-07-20T08:33:18.110138Z",
     "shell.execute_reply": "2022-07-20T08:33:18.108815Z"
    },
    "papermill": {
     "duration": 0.061115,
     "end_time": "2022-07-20T08:33:18.113837",
     "exception": false,
     "start_time": "2022-07-20T08:33:18.052722",
     "status": "completed"
    },
    "tags": []
   },
   "outputs": [
    {
     "data": {
      "text/plain": [
       "LinearRegression()"
      ]
     },
     "execution_count": 31,
     "metadata": {},
     "output_type": "execute_result"
    }
   ],
   "source": [
    "model=linear_model.LinearRegression()\n",
    "model.fit(x,y)\n"
   ]
  },
  {
   "cell_type": "code",
   "execution_count": 32,
   "id": "e7cd87c1",
   "metadata": {
    "execution": {
     "iopub.execute_input": "2022-07-20T08:33:18.170440Z",
     "iopub.status.busy": "2022-07-20T08:33:18.167007Z",
     "iopub.status.idle": "2022-07-20T08:33:18.187454Z",
     "shell.execute_reply": "2022-07-20T08:33:18.186055Z"
    },
    "papermill": {
     "duration": 0.051843,
     "end_time": "2022-07-20T08:33:18.191312",
     "exception": false,
     "start_time": "2022-07-20T08:33:18.139469",
     "status": "completed"
    },
    "tags": []
   },
   "outputs": [
    {
     "data": {
      "text/plain": [
       "array([152.71532406])"
      ]
     },
     "execution_count": 32,
     "metadata": {},
     "output_type": "execute_result"
    }
   ],
   "source": [
    "model.predict([[67.450578,118.127103,0.97,15.69,16.46,23.483476,0.97,24.55,34.06,3.68000,5.500000]])"
   ]
  },
  {
   "cell_type": "markdown",
   "id": "dee0e92d",
   "metadata": {
    "papermill": {
     "duration": 0.013833,
     "end_time": "2022-07-20T08:33:18.229386",
     "exception": false,
     "start_time": "2022-07-20T08:33:18.215553",
     "status": "completed"
    },
    "tags": []
   },
   "source": [
    "# Predict the AQI"
   ]
  },
  {
   "cell_type": "code",
   "execution_count": 33,
   "id": "56e19019",
   "metadata": {
    "execution": {
     "iopub.execute_input": "2022-07-20T08:33:18.259549Z",
     "iopub.status.busy": "2022-07-20T08:33:18.258803Z",
     "iopub.status.idle": "2022-07-20T08:33:18.267704Z",
     "shell.execute_reply": "2022-07-20T08:33:18.266889Z"
    },
    "papermill": {
     "duration": 0.026456,
     "end_time": "2022-07-20T08:33:18.269764",
     "exception": false,
     "start_time": "2022-07-20T08:33:18.243308",
     "status": "completed"
    },
    "tags": []
   },
   "outputs": [
    {
     "data": {
      "text/plain": [
       "array([[81.3682192 , 47.96751693, 15.17641515, ..., 40.97605866,\n",
       "        15.22503503, 15.22789089],\n",
       "       [81.3682192 , 47.96751693, 15.17377277, ..., 21.80181866,\n",
       "        14.46158005, 16.01039588],\n",
       "       [81.3682192 , 47.96751693, 14.30548507, ..., 21.15302263,\n",
       "        13.814303  , 17.56683827],\n",
       "       ...,\n",
       "       [37.69097077, 33.44408284, 15.04271047, ..., 21.20322708,\n",
       "        15.22296043, 15.22646296],\n",
       "       [31.5425021 , 29.0757245 , 15.01100185, ..., 20.68959689,\n",
       "        15.22503503, 15.22503503],\n",
       "       [29.93429021, 33.51892146, 15.20389595, ..., 18.51728873,\n",
       "        14.54438996, 16.4674719 ]])"
      ]
     },
     "execution_count": 33,
     "metadata": {},
     "output_type": "execute_result"
    }
   ],
   "source": [
    "a=model.coef_\n",
    "b=model.intercept_\n",
    "y_pred=a*x+b\n",
    "y_pred"
   ]
  }
 ],
 "metadata": {
  "kernelspec": {
   "display_name": "Python 3 (ipykernel)",
   "language": "python",
   "name": "python3"
  },
  "language_info": {
   "codemirror_mode": {
    "name": "ipython",
    "version": 3
   },
   "file_extension": ".py",
   "mimetype": "text/x-python",
   "name": "python",
   "nbconvert_exporter": "python",
   "pygments_lexer": "ipython3",
   "version": "3.10.9"
  },
  "papermill": {
   "default_parameters": {},
   "duration": 15.213956,
   "end_time": "2022-07-20T08:33:19.006911",
   "environment_variables": {},
   "exception": null,
   "input_path": "__notebook__.ipynb",
   "output_path": "__notebook__.ipynb",
   "parameters": {},
   "start_time": "2022-07-20T08:33:03.792955",
   "version": "2.3.4"
  }
 },
 "nbformat": 4,
 "nbformat_minor": 5
}
